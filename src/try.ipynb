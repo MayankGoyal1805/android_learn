{
 "cells": [
  {
   "cell_type": "code",
   "metadata": {
    "ExecuteTime": {
     "end_time": "2025-07-26T14:39:54.253379Z",
     "start_time": "2025-07-26T14:39:39.970083700Z"
    }
   },
   "source": [
    "println(\"Enter the value: \")\n",
    "val x = readln().toDouble()\n",
    "when(x) {\n",
    "    1.0 -> println(\"x==1\")\n",
    "    2.0 -> println(\"x==2\")\n",
    "    else -> println(\"Well the number isn't one or two it is $x\")\n",
    "}"
   ],
   "outputs": [
    {
     "name": "stdout",
     "output_type": "stream",
     "text": [
      "Enter the value: \r\n",
      "Well the number isn't one or two it is 3.0\r\n"
     ]
    }
   ],
   "execution_count": 2
  },
  {
   "cell_type": "code",
   "metadata": {
    "ExecuteTime": {
     "end_time": "2025-07-26T14:39:57.701284300Z",
     "start_time": "2025-07-26T14:39:54.279262800Z"
    }
   },
   "source": "print(readln())",
   "outputs": [
    {
     "name": "stdout",
     "output_type": "stream",
     "text": [
      "6"
     ]
    }
   ],
   "execution_count": 3
  },
  {
   "cell_type": "code",
   "metadata": {
    "ExecuteTime": {
     "end_time": "2025-07-26T14:39:57.942585700Z",
     "start_time": "2025-07-26T14:39:57.759599100Z"
    }
   },
   "source": [
    "\n",
    "fun test(a: Any) {\n",
    "    var y = a\n",
    "    if (y is String) {\n",
    "        println(y.length)\n",
    "    }\n",
    "}\n",
    "test(\"hello\")\n"
   ],
   "outputs": [
    {
     "name": "stdout",
     "output_type": "stream",
     "text": [
      "5\r\n"
     ]
    }
   ],
   "execution_count": 4
  },
  {
   "metadata": {
    "ExecuteTime": {
     "end_time": "2025-07-26T14:39:58.091500100Z",
     "start_time": "2025-07-26T14:39:57.964674400Z"
    }
   },
   "cell_type": "code",
   "source": [
    "var boolFalse: Boolean // not initialized\n",
    "boolFalse = false      // initialized\n",
    "println(boolFalse)"
   ],
   "outputs": [
    {
     "name": "stdout",
     "output_type": "stream",
     "text": [
      "false\r\n"
     ]
    }
   ],
   "execution_count": 5
  },
  {
   "metadata": {
    "ExecuteTime": {
     "end_time": "2025-07-26T14:39:58.400109300Z",
     "start_time": "2025-07-26T14:39:58.111429600Z"
    }
   },
   "cell_type": "code",
   "source": "for (i in 1..3) print(i)\n",
   "outputs": [
    {
     "name": "stdout",
     "output_type": "stream",
     "text": [
      "123"
     ]
    }
   ],
   "execution_count": 6
  },
  {
   "metadata": {
    "ExecuteTime": {
     "end_time": "2025-07-26T14:39:58.563423500Z",
     "start_time": "2025-07-26T14:39:58.436628Z"
    }
   },
   "cell_type": "code",
   "source": [
    "class Constructors {\n",
    "    init {\n",
    "        println(\"Init block\")\n",
    "    }\n",
    "\n",
    "    constructor(i: Int) {\n",
    "        println(\"Constructor $i\")\n",
    "    }\n",
    "}\n",
    "\n",
    "Constructors(12)"
   ],
   "outputs": [
    {
     "name": "stdout",
     "output_type": "stream",
     "text": [
      "Init block\r\n",
      "Constructor 12\r\n"
     ]
    },
    {
     "data": {
      "text/plain": [
       "Line_8_jupyter$Constructors@3c257a24"
      ]
     },
     "execution_count": 7,
     "metadata": {},
     "output_type": "execute_result"
    }
   ],
   "execution_count": 7
  },
  {
   "metadata": {
    "ExecuteTime": {
     "end_time": "2025-07-26T14:39:58.692616600Z",
     "start_time": "2025-07-26T14:39:58.684554400Z"
    }
   },
   "cell_type": "code",
   "source": "",
   "outputs": [],
   "execution_count": null
  }
 ],
 "metadata": {
  "kernelspec": {
   "display_name": "Kotlin",
   "language": "kotlin",
   "name": "kotlin"
  },
  "language_info": {
   "codemirror_mode": "text/x-kotlin",
   "file_extension": ".kt",
   "mimetype": "text/x-kotlin",
   "name": "kotlin",
   "nbconvert_exporter": "",
   "pygments_lexer": "kotlin",
   "version": "1.9.23"
  }
 },
 "nbformat": 4,
 "nbformat_minor": 4
}
