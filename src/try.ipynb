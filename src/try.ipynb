{
 "cells": [
  {
   "cell_type": "code",
   "metadata": {
    "ExecuteTime": {
     "end_time": "2025-07-12T10:25:20.525488Z",
     "start_time": "2025-07-12T10:25:17.584911300Z"
    }
   },
   "source": [
    "println(\"Enter the value: \")\n",
    "val x = readln().toDouble()\n",
    "when(x) {\n",
    "    1.0 -> println(\"x==1\")\n",
    "    2.0 -> println(\"x==2\")\n",
    "    else -> println(\"Well the number isn't one or two it is $x\")\n",
    "}"
   ],
   "outputs": [
    {
     "name": "stdout",
     "output_type": "stream",
     "text": [
      "Enter the value: \r\n",
      "Well the number isn't one or two it is 45.0\r\n"
     ]
    }
   ],
   "execution_count": 9
  },
  {
   "cell_type": "code",
   "metadata": {
    "ExecuteTime": {
     "end_time": "2025-07-12T10:26:58.690526200Z",
     "start_time": "2025-07-12T10:26:48.425823500Z"
    }
   },
   "source": "print(readln())",
   "outputs": [
    {
     "name": "stdout",
     "output_type": "stream",
     "text": [
      "Huha"
     ]
    }
   ],
   "execution_count": 10
  },
  {
   "cell_type": "code",
   "metadata": {
    "ExecuteTime": {
     "end_time": "2025-07-12T12:47:30.395594800Z",
     "start_time": "2025-07-12T12:47:30.083043100Z"
    }
   },
   "source": [
    "\n",
    "fun test(a: Any) {\n",
    "    var y = a\n",
    "    if (y is String) {\n",
    "        println(y.length)\n",
    "    }\n",
    "}\n",
    "test(\"hello\")\n"
   ],
   "outputs": [
    {
     "name": "stdout",
     "output_type": "stream",
     "text": [
      "5\r\n"
     ]
    }
   ],
   "execution_count": 11
  },
  {
   "metadata": {
    "ExecuteTime": {
     "end_time": "2025-07-13T06:23:01.042052400Z",
     "start_time": "2025-07-13T06:23:00.298984600Z"
    }
   },
   "cell_type": "code",
   "source": [
    "var boolFalse: Boolean // not initialized\n",
    "boolFalse = false      // initialized\n",
    "println(boolFalse)"
   ],
   "outputs": [
    {
     "name": "stdout",
     "output_type": "stream",
     "text": [
      "false\r\n"
     ]
    }
   ],
   "execution_count": 16
  },
  {
   "metadata": {
    "ExecuteTime": {
     "end_time": "2025-07-13T09:26:07.868608900Z",
     "start_time": "2025-07-13T09:26:07.781935400Z"
    }
   },
   "cell_type": "code",
   "source": "for (i in 1..3) print(i)\n",
   "outputs": [
    {
     "name": "stdout",
     "output_type": "stream",
     "text": [
      "123"
     ]
    }
   ],
   "execution_count": 18
  }
 ],
 "metadata": {
  "kernelspec": {
   "display_name": "Kotlin",
   "language": "kotlin",
   "name": "kotlin"
  },
  "language_info": {
   "codemirror_mode": "text/x-kotlin",
   "file_extension": ".kt",
   "mimetype": "text/x-kotlin",
   "name": "kotlin",
   "nbconvert_exporter": "",
   "pygments_lexer": "kotlin",
   "version": "1.9.23"
  }
 },
 "nbformat": 4,
 "nbformat_minor": 4
}
