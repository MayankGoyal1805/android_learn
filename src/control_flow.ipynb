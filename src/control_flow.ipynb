{
 "cells": [
  {
   "cell_type": "markdown",
   "metadata": {},
   "source": [
    "if conditions with two boundary conditions can be combined with range (4..9)"
   ]
  },
  {
   "cell_type": "code",
   "metadata": {
    "ExecuteTime": {
     "end_time": "2025-07-26T17:44:18.621380200Z",
     "start_time": "2025-07-26T17:44:18.533128600Z"
    }
   },
   "source": [
    "val number = 6\n",
    "if(number>2 && number<9) println(1)\n",
    "if(number in 2..9) println(2)"
   ],
   "outputs": [
    {
     "name": "stdout",
     "output_type": "stream",
     "text": [
      "1\r\n",
      "2\r\n"
     ]
    }
   ],
   "execution_count": 8
  },
  {
   "cell_type": "code",
   "execution_count": 1,
   "metadata": {
    "ExecuteTime": {
     "end_time": "2025-07-26T17:30:02.943260800Z",
     "start_time": "2025-07-26T17:30:02.643605900Z"
    },
    "collapsed": true
   },
   "outputs": [
    {
     "name": "stdout",
     "output_type": "stream",
     "text": [
      "1\r\n",
      "2\r\n",
      "3\r\n",
      "4\r\n",
      "5\r\n",
      "6\r\n",
      "7\r\n",
      "8\r\n",
      "9\r\n",
      "10\r\n"
     ]
    }
   ],
   "source": [
    "for( i in 1..10) println(i)"
   ]
  },
  {
   "cell_type": "markdown",
   "metadata": {},
   "source": [
    "Last digit (10 here) won't be included while using until"
   ]
  },
  {
   "cell_type": "code",
   "execution_count": 2,
   "metadata": {
    "ExecuteTime": {
     "end_time": "2025-07-26T17:30:03.029896400Z",
     "start_time": "2025-07-26T17:30:02.954261300Z"
    }
   },
   "outputs": [
    {
     "name": "stdout",
     "output_type": "stream",
     "text": [
      "1\r\n",
      "2\r\n",
      "3\r\n",
      "4\r\n",
      "5\r\n",
      "6\r\n",
      "7\r\n",
      "8\r\n",
      "9\r\n"
     ]
    }
   ],
   "source": [
    "for( i in 1 until 10) println(i)"
   ]
  },
  {
   "cell_type": "markdown",
   "metadata": {},
   "source": [
    "both boundaries will be included in downTo unlike until"
   ]
  },
  {
   "cell_type": "code",
   "execution_count": 3,
   "metadata": {
    "ExecuteTime": {
     "end_time": "2025-07-26T17:30:03.129905500Z",
     "start_time": "2025-07-26T17:30:03.054906900Z"
    }
   },
   "outputs": [
    {
     "name": "stdout",
     "output_type": "stream",
     "text": [
      "10\r\n",
      "9\r\n",
      "8\r\n",
      "7\r\n",
      "6\r\n",
      "5\r\n",
      "4\r\n",
      "3\r\n",
      "2\r\n"
     ]
    }
   ],
   "source": [
    "for (i in 10 downTo 2 ) println(i)"
   ]
  },
  {
   "cell_type": "code",
   "execution_count": 4,
   "metadata": {
    "ExecuteTime": {
     "end_time": "2025-07-26T17:30:03.260617300Z",
     "start_time": "2025-07-26T17:30:03.142204200Z"
    }
   },
   "outputs": [
    {
     "name": "stdout",
     "output_type": "stream",
     "text": [
      "10\r\n",
      "7\r\n",
      "4\r\n",
      "1\r\n",
      "-2\r\n",
      "-5\r\n"
     ]
    }
   ],
   "source": [
    "for (i in 10 downTo -5 step 3) println(i)"
   ]
  },
  {
   "cell_type": "markdown",
   "metadata": {},
   "source": [
    "as we used until here, so 9 isn't included, so it just stopped at 7"
   ]
  },
  {
   "cell_type": "code",
   "execution_count": 5,
   "metadata": {
    "ExecuteTime": {
     "end_time": "2025-07-26T17:30:03.475946900Z",
     "start_time": "2025-07-26T17:30:03.302270700Z"
    }
   },
   "outputs": [
    {
     "name": "stdout",
     "output_type": "stream",
     "text": [
      "1\r\n",
      "3\r\n",
      "5\r\n",
      "7\r\n"
     ]
    }
   ],
   "source": [
    "for (i in 1 until 9 step 2) println(i)"
   ]
  },
  {
   "cell_type": "markdown",
   "metadata": {},
   "source": [
    "While loops"
   ]
  },
  {
   "cell_type": "code",
   "execution_count": 4,
   "metadata": {
    "ExecuteTime": {
     "end_time": "2025-07-26T17:30:03.715446900Z",
     "start_time": "2025-07-26T17:30:03.492949700Z"
    }
   },
   "outputs": [
    {
     "name": "stdout",
     "output_type": "stream",
     "text": [
      "1\n",
      "2\n",
      "3\n",
      "4\n",
      "5\n",
      "6\n",
      "7\n",
      "8\n",
      "9\n",
      "10\n"
     ]
    }
   ],
   "source": [
    "var number = 0\n",
    "while (number < 10){\n",
    "    println(++number)\n",
    "}"
   ]
  },
  {
   "cell_type": "markdown",
   "metadata": {},
   "source": [
    "break and continue and do-while work the same too, so not writing"
   ]
  },
  {
   "cell_type": "markdown",
   "metadata": {},
   "source": []
  }
 ],
 "metadata": {
  "kernelspec": {
   "display_name": "Kotlin",
   "language": "kotlin",
   "name": "kotlin"
  },
  "language_info": {
   "codemirror_mode": "text/x-kotlin",
   "file_extension": ".kt",
   "mimetype": "text/x-kotlin",
   "name": "kotlin",
   "nbconvert_exporter": "",
   "pygments_lexer": "kotlin",
   "version": "2.3.0-dev-704"
  }
 },
 "nbformat": 4,
 "nbformat_minor": 0
}
