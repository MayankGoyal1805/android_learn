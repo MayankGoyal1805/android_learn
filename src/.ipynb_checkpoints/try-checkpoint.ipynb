{
 "cells": [
  {
   "cell_type": "code",
   "metadata": {
    "collapsed": true,
    "ExecuteTime": {
     "end_time": "2025-07-12T10:15:53.962744200Z",
     "start_time": "2025-07-12T10:15:48.035638100Z"
    }
   },
   "source": [
    "println(\"Enter the value: \")\n",
    "val x = readln()\n",
    "val a = x.toInt()\n",
    "when(a) {\n",
    "    1 -> println(\"x==1\")\n",
    "    2 -> println(\"x==2\")\n",
    "    else -> println(\"Well the number isn't one or two\")\n",
    "}"
   ],
   "outputs": [
    {
     "name": "stdout",
     "output_type": "stream",
     "text": [
      "Enter the value: \r\n",
      "x==2\r\n"
     ]
    }
   ],
   "execution_count": 2
  },
  {
   "metadata": {},
   "cell_type": "code",
   "outputs": [],
   "execution_count": null,
   "source": ""
  }
 ],
 "metadata": {
  "kernelspec": {
   "display_name": "Kotlin",
   "language": "kotlin",
   "name": "kotlin"
  },
  "language_info": {
   "codemirror_mode": "text/x-kotlin",
   "file_extension": ".kt",
   "mimetype": "text/x-kotlin",
   "name": "kotlin",
   "nbconvert_exporter": "",
   "pygments_lexer": "kotlin",
   "version": "1.9.23"
  }
 },
 "nbformat": 4,
 "nbformat_minor": 0
}
